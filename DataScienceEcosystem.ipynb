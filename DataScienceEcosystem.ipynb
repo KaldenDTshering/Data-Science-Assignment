{
 "cells": [
  {
   "cell_type": "markdown",
   "id": "c329e46b-2a6c-4ddf-b331-c1ad543db59e",
   "metadata": {},
   "source": [
    "# Data Science Tools and Ecosystem"
   ]
  },
  {
   "cell_type": "markdown",
   "id": "3e2e309f-3cb6-4583-997e-767229d97635",
   "metadata": {},
   "source": [
    "In this notebook, Data Science Tools and Ecosystem are summarized.\n",
    "\n"
   ]
  },
  {
   "cell_type": "markdown",
   "id": "0b06fc22-7240-4034-9fec-16fe0f415cf4",
   "metadata": {
    "tags": []
   },
   "source": [
    "Some of the popular languages that Data Scientists use are:\n",
    "1. Python \n",
    "2. R\n",
    "3. Scala"
   ]
  },
  {
   "cell_type": "markdown",
   "id": "35282a6a-147c-491c-927b-ff4d7f05f5b3",
   "metadata": {},
   "source": [
    "Some of the commonly used libraries used by Data Scientists include:\n",
    "1. pyplot\n",
    "2. matplotlib\n",
    "3. ggplot"
   ]
  },
  {
   "cell_type": "markdown",
   "id": "38deac74-6352-4274-8550-6d1c11057130",
   "metadata": {
    "tags": []
   },
   "source": [
    "| Data Science Tools | \n",
    "| --- |\n",
    "| Tensorflow |\n",
    "| RStudio |\n",
    "| Github |\n"
   ]
  },
  {
   "cell_type": "markdown",
   "id": "47b50bc3-9f9d-4cb5-ae38-3f3581866176",
   "metadata": {},
   "source": [
    "### Below are a few examples of evaluating arithmetic expressions in Python"
   ]
  },
  {
   "cell_type": "code",
   "execution_count": 3,
   "id": "945a0438-05fe-4ca4-b491-a11208fb53e4",
   "metadata": {
    "tags": []
   },
   "outputs": [
    {
     "data": {
      "text/plain": [
       "17"
      ]
     },
     "execution_count": 3,
     "metadata": {},
     "output_type": "execute_result"
    }
   ],
   "source": [
    " (3*4)+5"
   ]
  },
  {
   "cell_type": "markdown",
   "id": "8065b774-9594-4f0d-b1ea-bf8f1eae9513",
   "metadata": {},
   "source": [
    "This a simple arithmetic expression to mutiply then add integers"
   ]
  },
  {
   "cell_type": "code",
   "execution_count": 4,
   "id": "2e128acc-2a27-41c9-a703-9b4edf4f9b68",
   "metadata": {
    "tags": []
   },
   "outputs": [
    {
     "data": {
      "text/plain": [
       "33.333333333333336"
      ]
     },
     "execution_count": 4,
     "metadata": {},
     "output_type": "execute_result"
    }
   ],
   "source": [
    "2000/60"
   ]
  },
  {
   "cell_type": "markdown",
   "id": "b08b444f-c881-4b2e-b0b3-61ad0ded4366",
   "metadata": {},
   "source": [
    " This will convert 200 minutes to hours by diving by 60"
   ]
  },
  {
   "cell_type": "markdown",
   "id": "29cc4638-bbde-42fd-87de-4e2cd6b21b41",
   "metadata": {},
   "source": [
    "**Objective:**\n",
    "* List Popular Languages \n",
    "* Arthimetic Operations\n",
    "* Create tables"
   ]
  },
  {
   "cell_type": "markdown",
   "id": "a3fbfabd-a399-46aa-b4ec-f987cd38ceac",
   "metadata": {},
   "source": [
    "## Author\n",
    "Kalden"
   ]
  },
  {
   "cell_type": "code",
   "execution_count": null,
   "id": "c308f257-a498-4475-b508-47034d0b6dea",
   "metadata": {},
   "outputs": [],
   "source": []
  }
 ],
 "metadata": {
  "kernelspec": {
   "display_name": "Python",
   "language": "python",
   "name": "conda-env-python-py"
  },
  "language_info": {
   "codemirror_mode": {
    "name": "ipython",
    "version": 3
   },
   "file_extension": ".py",
   "mimetype": "text/x-python",
   "name": "python",
   "nbconvert_exporter": "python",
   "pygments_lexer": "ipython3",
   "version": "3.7.12"
  }
 },
 "nbformat": 4,
 "nbformat_minor": 5
}
